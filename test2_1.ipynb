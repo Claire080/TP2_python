{
 "cells": [
  {
   "cell_type": "code",
   "execution_count": 1,
   "id": "613fce1a-5f96-41f8-8f2c-f554fb883946",
   "metadata": {},
   "outputs": [],
   "source": [
    "import pandas as pd"
   ]
  },
  {
   "cell_type": "code",
   "execution_count": 60,
   "id": "339ef6ac-7d71-4ee1-baf5-57387cb09f8a",
   "metadata": {},
   "outputs": [
    {
     "name": "stdout",
     "output_type": "stream",
     "text": [
      "        num_legs  num_wings\n",
      "falcon         2          2\n",
      "dog            4          0\n",
      "cat            6          0\n",
      "ant            8          0\n",
      "num_legs\n",
      "num_wings\n",
      "           0\n",
      "num_legs   4\n",
      "num_wings  4\n",
      "4\n"
     ]
    }
   ],
   "source": [
    "dict={}\n",
    "df= pd.DataFrame({'num_legs':[2,4,6,8],\n",
    "                  'num_wings': [2,0,0,0]},\n",
    "                  index=['falcon','dog','cat','ant'])\n",
    "print(df)\n",
    "print(df.columns[0])\n",
    "print(df.columns[1])\n",
    "#dt=pd.DataFrame(df.iloc[:,0])\n",
    "#print(df.count(axis=0))\n",
    "d=pd.DataFrame(df.count(axis=0))\n",
    "print(d)\n",
    "print(d.iloc[1,0])"
   ]
  },
  {
   "cell_type": "code",
   "execution_count": 66,
   "id": "048fd85b-6c05-42f8-9e57-f8e52d85b866",
   "metadata": {},
   "outputs": [
    {
     "ename": "SyntaxError",
     "evalue": "invalid syntax (2878920832.py, line 6)",
     "output_type": "error",
     "traceback": [
      "\u001b[1;36m  Input \u001b[1;32mIn [66]\u001b[1;36m\u001b[0m\n\u001b[1;33m    mon_d['e']=3\u001b[0m\n\u001b[1;37m    ^\u001b[0m\n\u001b[1;31mSyntaxError\u001b[0m\u001b[1;31m:\u001b[0m invalid syntax\n"
     ]
    }
   ],
   "source": [
    "mon_d=dict()\n",
    "df= pd.DataFrame({'num_legs':[2,4,6,8],\n",
    "                  'num_wings': [2,0,0,0]},\n",
    "                  index=['falcon','dog','cat','ant'])\n",
    "d=pd.DataFrame(df.count(axis=0)\n",
    "mon_d['e']=3\n",
    "#mon_d[df.columns[0]]=d.iloc[1,0]\n",
    "#mon_dd[df.columns[1]]=d.iloc[2,0]"
   ]
  },
  {
   "cell_type": "code",
   "execution_count": null,
   "id": "f701e93c-5cba-4db5-bbd6-7530e76bd37c",
   "metadata": {},
   "outputs": [],
   "source": []
  }
 ],
 "metadata": {
  "kernelspec": {
   "display_name": "Python 3 (ipykernel)",
   "language": "python",
   "name": "python3"
  },
  "language_info": {
   "codemirror_mode": {
    "name": "ipython",
    "version": 3
   },
   "file_extension": ".py",
   "mimetype": "text/x-python",
   "name": "python",
   "nbconvert_exporter": "python",
   "pygments_lexer": "ipython3",
   "version": "3.9.11"
  }
 },
 "nbformat": 4,
 "nbformat_minor": 5
}
